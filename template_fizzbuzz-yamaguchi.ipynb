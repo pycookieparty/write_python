{
 "cells": [
  {
   "cell_type": "markdown",
   "metadata": {},
   "source": [
    "# Write the code\n",
    "\"fizz buzz\""
   ]
  },
  {
   "cell_type": "markdown",
   "metadata": {},
   "source": [
    "## How to use this file\n",
    "File -> Make a Copy\n",
    "\n",
    "please dont write a code on this file\n"
   ]
  },
  {
   "cell_type": "markdown",
   "metadata": {},
   "source": [
    "# Fizz Buzz\n",
    "プレイヤーは円状に座る。最初のプレイヤーは「1」と数字を発言する。次のプレイヤーは直前のプレイヤーの次の数字を発言していく。ただし、3の倍数では「Fizz」（Bizz Buzzの場合は「Bizz」）、5の倍数では「Buzz」、両者の公倍数（すなわち15の倍数）では「Fizz Buzz」（Bizz Buzzの場合は「Bizz Buzz」）を数の代わりに発言しなければならない。発言を間違えた者や、ためらった者は脱落となる。\n",
    "\n",
    "ゲームは、以下のとおりに発言が進行する。\n",
    "\n",
    "    1、2、Fizz、4、Buzz、Fizz、7、8、Fizz、Buzz、11、Fizz、13、14、Fizz Buzz、16、17、Fizz、19、Buzz、Fizz、22、23、Fizz、Buzz、26、Fizz、28、29、Fizz Buzz、31、32、Fizz、34、Buzz、Fizz、...\n"
   ]
  },
  {
   "cell_type": "markdown",
   "metadata": {},
   "source": [
    "## task\n",
    "`def fizzBuzz(i):`\n",
    "いまは数字を入れると数字のまま返すようになっている.\n",
    "fizzbuzzのルールで動くように改造しよう."
   ]
  },
  {
   "cell_type": "code",
   "execution_count": 1,
   "metadata": {},
   "outputs": [],
   "source": [
    "def fizzBuzz(i):\n",
    "    if i % 3 == 0 and i % 5 == 0:\n",
    "        ret = \"FizzBuzz\"\n",
    "    elif i % 3 == 0:\n",
    "        ret = \"Fizz\"\n",
    "    elif i % 5 == 0:\n",
    "        ret = \"Buzz\"\n",
    "    else:\n",
    "        ret = str(i)\n",
    "    return ret"
   ]
  },
  {
   "cell_type": "markdown",
   "metadata": {},
   "source": [
    "## 動きを試す"
   ]
  },
  {
   "cell_type": "code",
   "execution_count": 2,
   "metadata": {},
   "outputs": [
    {
     "data": {
      "text/plain": [
       "'4'"
      ]
     },
     "execution_count": 2,
     "metadata": {},
     "output_type": "execute_result"
    }
   ],
   "source": [
    "fizzBuzz(4)"
   ]
  },
  {
   "cell_type": "code",
   "execution_count": 5,
   "metadata": {},
   "outputs": [
    {
     "data": {
      "text/plain": [
       "'Buzz'"
      ]
     },
     "execution_count": 5,
     "metadata": {},
     "output_type": "execute_result"
    }
   ],
   "source": [
    "fizzBuzz(5)"
   ]
  },
  {
   "cell_type": "code",
   "execution_count": 6,
   "metadata": {},
   "outputs": [
    {
     "data": {
      "text/plain": [
       "'FizzBuzz'"
      ]
     },
     "execution_count": 6,
     "metadata": {},
     "output_type": "execute_result"
    }
   ],
   "source": [
    "fizzBuzz(0)"
   ]
  },
  {
   "cell_type": "markdown",
   "metadata": {},
   "source": [
    "# テスト\n",
    "作成したfizzBuzz()が正しく動くかチェックする.\n",
    "そのまま下記を実行(shift+Enter)\n",
    "して結果を見よう"
   ]
  },
  {
   "cell_type": "code",
   "execution_count": 9,
   "metadata": {},
   "outputs": [],
   "source": [
    "import unittest\n",
    "class TestFizzBuzz(unittest.TestCase):\n",
    "    def testFizzBuzz(self):\n",
    "        \"\"\"test method for fizz buzz\n",
    "        \"\"\"\n",
    "        actual = ['','1','2','Fizz','4','Buzz','Fizz','7','8','Fizz','Buzz',\n",
    "                  '11','Fizz','13','14','FizzBuzz','16','17','Fizz','19','Buzz','Fizz']\n",
    "        for i in range(1, len(actual)):\n",
    "            self.assertEqual(fizzBuzz(i), actual[i])"
   ]
  },
  {
   "cell_type": "code",
   "execution_count": 10,
   "metadata": {},
   "outputs": [
    {
     "name": "stderr",
     "output_type": "stream",
     "text": [
      ".\n",
      "----------------------------------------------------------------------\n",
      "Ran 1 test in 0.002s\n",
      "\n",
      "OK\n"
     ]
    }
   ],
   "source": [
    "if __name__ == '__main__':\n",
    "    unittest.main(argv=['first-arg-is-ignored'], exit=False)"
   ]
  },
  {
   "cell_type": "markdown",
   "metadata": {},
   "source": [
    "## GREAT JOB!!!"
   ]
  },
  {
   "cell_type": "code",
   "execution_count": null,
   "metadata": {},
   "outputs": [],
   "source": []
  }
 ],
 "metadata": {
  "kernelspec": {
   "display_name": "Python 3",
   "language": "python",
   "name": "python3"
  },
  "language_info": {
   "codemirror_mode": {
    "name": "ipython",
    "version": 3
   },
   "file_extension": ".py",
   "mimetype": "text/x-python",
   "name": "python",
   "nbconvert_exporter": "python",
   "pygments_lexer": "ipython3",
   "version": "3.5.2"
  }
 },
 "nbformat": 4,
 "nbformat_minor": 2
}
