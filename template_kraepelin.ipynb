{
 "cells": [
  {
   "cell_type": "markdown",
   "metadata": {},
   "source": [
    "# Write the code\n",
    "\"++++++\""
   ]
  },
  {
   "cell_type": "markdown",
   "metadata": {},
   "source": [
    "## How to use this file\n",
    "File -> Make a Copy\n",
    "\n",
    "please dont write a code on this file\n"
   ]
  },
  {
   "cell_type": "markdown",
   "metadata": {},
   "source": [
    "# クレペリン検査\n",
    "ドイツの精神科医であるエミール・クレペリンが発見した作業曲線を元に、日本の内田勇三郎が1920年代から1930年代にかけて開発した。現在は株式会社日本・精神技術研究所が提供している。「内田クレペリン検査」は同社の登録商標（第4500507号）である。\n",
    "\n",
    "ひと桁の足し算（3、4、5、6、7、8、9の組み合わせからなる）を5分の休憩をはさんで前半15分、後半15分の30分間行わせた上で、1分ごとの作業量の継時的な変化のパターンから性格や適性を診断する。診断の基本的な考え方は、健康で性格面・適性面に大きな偏りのない人に典型的に出現する曲線型を「定型曲線」として置いた上で、その定型曲線との類似度やズレ、定型にあてはまらない曲線特徴の現われ方などからその人の性格や適性を評価するものである。\n",
    "\n"
   ]
  },
  {
   "cell_type": "markdown",
   "metadata": {},
   "source": [
    "\n",
    "## RULE\n",
    "数列の横の数字同士を足して足した結果の1桁目をつかって新しい数列を作成する。\n",
    "最後に数字がひとつになるまでそれを繰り返し最後の数字を出力する。\n",
    "\n",
    "\n",
    "```\n",
    "例題\n",
    "123456\n",
    "35791\n",
    "8260\n",
    "086\n",
    "84\n",
    "2\n",
    "```\n",
    "\n",
    "## task\n",
    "`def kreapelin(numbers):`\n",
    "いまは一桁の整数のリストを入れると一番始めの数字を返すようになっている.\n",
    "ルールをまもって動くように改造しよう."
   ]
  },
  {
   "cell_type": "code",
   "execution_count": 7,
   "metadata": {},
   "outputs": [],
   "source": [
    "def kreapelin(numbers):\n",
    "    # write your code here\n",
    "    return numbers[0]"
   ]
  },
  {
   "cell_type": "markdown",
   "metadata": {},
   "source": [
    "## 動きを試す"
   ]
  },
  {
   "cell_type": "code",
   "execution_count": 8,
   "metadata": {},
   "outputs": [
    {
     "data": {
      "text/plain": [
       "4"
      ]
     },
     "execution_count": 8,
     "metadata": {},
     "output_type": "execute_result"
    }
   ],
   "source": [
    "kreapelin([4,3,4,2])"
   ]
  },
  {
   "cell_type": "code",
   "execution_count": 9,
   "metadata": {},
   "outputs": [
    {
     "data": {
      "text/plain": [
       "1"
      ]
     },
     "execution_count": 9,
     "metadata": {},
     "output_type": "execute_result"
    }
   ],
   "source": [
    "kreapelin([1,3,4,2])"
   ]
  },
  {
   "cell_type": "code",
   "execution_count": 10,
   "metadata": {},
   "outputs": [
    {
     "data": {
      "text/plain": [
       "4"
      ]
     },
     "execution_count": 10,
     "metadata": {},
     "output_type": "execute_result"
    }
   ],
   "source": [
    "kreapelin([4])"
   ]
  },
  {
   "cell_type": "markdown",
   "metadata": {},
   "source": [
    "# テスト\n",
    "作成したfizzBuzz()が正しく動くかチェックする.\n",
    "そのまま下記を実行(shift+Enter)\n",
    "して結果を見よう"
   ]
  },
  {
   "cell_type": "code",
   "execution_count": 15,
   "metadata": {},
   "outputs": [],
   "source": [
    "import unittest\n",
    "class TestKreapelin(unittest.TestCase):\n",
    "    def testKreapelin(self):\n",
    "        \"\"\"test method for kreapelin\n",
    "        \"\"\"\n",
    "        inputs = [[1],\n",
    "                 [1,2,3,4,5],\n",
    "                 [1,9,9,0,0,8,1,1],\n",
    "                 [1,3,5,7,9]]\n",
    "        actuals = [1,8,9,0]\n",
    "        for _input, actual in zip(inputs, actuals):\n",
    "            self.assertEqual(kreapelin(_input), actual)"
   ]
  },
  {
   "cell_type": "code",
   "execution_count": 16,
   "metadata": {},
   "outputs": [
    {
     "name": "stderr",
     "output_type": "stream",
     "text": [
      "F\n",
      "======================================================================\n",
      "FAIL: testKreapelin (__main__.TestKreapelin)\n",
      "test method for kreapelin\n",
      "----------------------------------------------------------------------\n",
      "Traceback (most recent call last):\n",
      "  File \"<ipython-input-15-e58cd8ba1ad4>\", line 12, in testKreapelin\n",
      "    self.assertEqual(kreapelin(_input), actual)\n",
      "AssertionError: 1 != 8\n",
      "\n",
      "----------------------------------------------------------------------\n",
      "Ran 1 test in 0.001s\n",
      "\n",
      "FAILED (failures=1)\n"
     ]
    }
   ],
   "source": [
    "if __name__ == '__main__':\n",
    "    unittest.main(argv=['first-arg-is-ignored'], exit=False)"
   ]
  },
  {
   "cell_type": "markdown",
   "metadata": {},
   "source": [
    "# 計算時間を計測しよう\n",
    "- %time その行の計算時間を計測\n",
    "- %timeit その行の計算時間を何回か実行して計測(ばらつきがある場合によい)\n",
    "- %%time セルの先頭に書いて、セル全体の計算時間を計測\n",
    "- %%timeit セルの先頭に書いて、セル全体の計算時間を何回か実行して計測"
   ]
  },
  {
   "cell_type": "code",
   "execution_count": null,
   "metadata": {},
   "outputs": [],
   "source": [
    "import random\n",
    "numbers = [random.randint(0,9) for i in range(1000)] #0-9のランダム整数の長さ100の配列\n",
    "%timeit kreapelin(numbers)"
   ]
  },
  {
   "cell_type": "markdown",
   "metadata": {},
   "source": [
    "## GREAT JOB!!!"
   ]
  },
  {
   "cell_type": "code",
   "execution_count": null,
   "metadata": {},
   "outputs": [],
   "source": []
  }
 ],
 "metadata": {
  "kernelspec": {
   "display_name": "Python 3",
   "language": "python",
   "name": "python3"
  },
  "language_info": {
   "codemirror_mode": {
    "name": "ipython",
    "version": 3
   },
   "file_extension": ".py",
   "mimetype": "text/x-python",
   "name": "python",
   "nbconvert_exporter": "python",
   "pygments_lexer": "ipython3",
   "version": "3.5.2"
  }
 },
 "nbformat": 4,
 "nbformat_minor": 2
}
